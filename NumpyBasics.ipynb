{
 "cells": [
  {
   "cell_type": "code",
   "execution_count": 1,
   "metadata": {},
   "outputs": [
    {
     "name": "stdout",
     "output_type": "stream",
     "text": [
      "Requirement already satisfied: numpy in c:\\users\\ahirr\\anaconda3\\lib\\site-packages (1.18.3)\n"
     ]
    },
    {
     "name": "stderr",
     "output_type": "stream",
     "text": [
      "WARNING: You are using pip version 20.0.2; however, version 20.2.4 is available.\n",
      "You should consider upgrading via the 'c:\\users\\ahirr\\anaconda3\\python.exe -m pip install --upgrade pip' command.\n"
     ]
    }
   ],
   "source": [
    "!pip install numpy"
   ]
  },
  {
   "cell_type": "code",
   "execution_count": 3,
   "metadata": {},
   "outputs": [],
   "source": [
    "import numpy as np"
   ]
  },
  {
   "cell_type": "code",
   "execution_count": 9,
   "metadata": {},
   "outputs": [
    {
     "name": "stdout",
     "output_type": "stream",
     "text": [
      "[0 1 2 3 4 5]\n"
     ]
    }
   ],
   "source": [
    "a = np.arange(6)\n",
    "print(a)"
   ]
  },
  {
   "cell_type": "code",
   "execution_count": 19,
   "metadata": {},
   "outputs": [
    {
     "name": "stdout",
     "output_type": "stream",
     "text": [
      "[1 2 3]\n",
      "[[1 2 3]\n",
      " [4 5 6]\n",
      " [7 8 9]]\n",
      "[0. 0.] [1. 1.] [1. 1.] [0 2 4 6 8]\n",
      "[1 1]\n"
     ]
    }
   ],
   "source": [
    "# Creating arrays\n",
    "# pass a list to the array to create an array\n",
    "a = np.array([[1,2,3],[4,5,6],[7,8,9]])\n",
    "\n",
    "print(a[0])\n",
    "print(a)\n",
    "\n",
    "zero_arr = np.zeros(2)\n",
    "ones_arr = np.ones(2)\n",
    "empty_arr = np.empty(2)\n",
    "step_size = np.arange(0, 10, 2)\n",
    "\n",
    "print(zero_arr, ones_arr, empty_arr, step_size)\n",
    "\n",
    "# specifying datatypes in arrays\n",
    "\n",
    "x = np.ones(2, dtype = np.int64)\n",
    "print(x)"
   ]
  },
  {
   "cell_type": "code",
   "execution_count": 24,
   "metadata": {},
   "outputs": [
    {
     "data": {
      "text/plain": [
       "array([2, 1, 5, 3, 7, 4, 6, 8, 1, 2, 3, 4, 5])"
      ]
     },
     "execution_count": 24,
     "metadata": {},
     "output_type": "execute_result"
    }
   ],
   "source": [
    "# sorting adding deleting from arrays\n",
    "\n",
    "arr1 = np.array([2,1,5,3,7,4,6,8])\n",
    "np.sort(arr)\n",
    "\n",
    "arr2 = np.array([1,2,3,4,5])\n",
    "\n",
    "np.concatenate((arr1,arr2))\n",
    "\n",
    "# to delete just use slicing "
   ]
  },
  {
   "cell_type": "code",
   "execution_count": 35,
   "metadata": {},
   "outputs": [
    {
     "name": "stdout",
     "output_type": "stream",
     "text": [
      "2\n",
      "9\n",
      "(3, 3)\n",
      "(5,)\n",
      "(1, 1, 5)\n",
      "[[[1 2 3 4 5]]]\n"
     ]
    }
   ],
   "source": [
    "# how to know the shape and size of the arrays\n",
    "\n",
    "array_example = np.array([[1,2,3],[4,5,6],[7,8,9]])\n",
    "\n",
    "# dimensions\n",
    "print(array_example.ndim)\n",
    "\n",
    "# size\n",
    "print(array_example.size)\n",
    "\n",
    "# shape \n",
    "print(array_example.shape)\n",
    "\n",
    "# reshaping arrays\n",
    "np.reshape(array_example, newshape = (1, array_example.size))\n",
    "\n",
    "# convert 1d arrays to 2d arrays\n",
    "a = np.array([1,2,3,4,5])\n",
    "print(a.shape)\n",
    "a2 = a[np.newaxis, np.newaxis, :]\n",
    "print(a2.shape)"
   ]
  },
  {
   "cell_type": "code",
   "execution_count": 42,
   "metadata": {},
   "outputs": [
    {
     "data": {
      "text/plain": [
       "array([2, 3, 4])"
      ]
     },
     "execution_count": 42,
     "metadata": {},
     "output_type": "execute_result"
    }
   ],
   "source": [
    "# indexing and slicing\n",
    "data = np.array([1,2,3,4,5])\n",
    "data[1:-1]"
   ]
  },
  {
   "cell_type": "code",
   "execution_count": 45,
   "metadata": {},
   "outputs": [],
   "source": [
    "# selective selection of elements in an array\n",
    "\n",
    "a = np.array([[1,2,3,4],[5,6,7,8],[9,10,11,12]])\n",
    "five_down = a[a<5]\n",
    "five_up = a[a>5]\n",
    "div_by2 = a[a%2==0]\n",
    "condition = a[(a>2) & (a < 11)]"
   ]
  },
  {
   "cell_type": "code",
   "execution_count": 52,
   "metadata": {},
   "outputs": [
    {
     "name": "stdout",
     "output_type": "stream",
     "text": [
      "[2 3]\n",
      "[[1 2]\n",
      " [3 4]\n",
      " [5 6]\n",
      " [7 8]]\n",
      "[[1 2 5 6]\n",
      " [3 4 7 8]]\n",
      "[[ 1  2  3  4  5  6  7  8  9 10 11 12]\n",
      " [13 14 15 16 17 18 19 20 21 22 23 24]]\n",
      "[1 2 3 4 5 6]\n"
     ]
    }
   ],
   "source": [
    "# create an array from existing data\n",
    "a = np.array([1,2,3,4,5,6])\n",
    "arr1 = a[1:3]\n",
    "print(arr1)\n",
    "\n",
    "# vertical stacking\n",
    "a1 = np.array([[1,2],[3,4]])\n",
    "a2 = np.array([[5,6],[7,8]])\n",
    "print(np.vstack((a1,a2)))\n",
    "\n",
    "# horizintal stacking\n",
    "print(np.hstack((a1,a2)))\n",
    "\n",
    "# reshaping an array\n",
    "x = np.arange(1,25).reshape(2,12)\n",
    "print(x)\n",
    "\n",
    "# deep copy of an array\n",
    "b2 = a.copy();\n",
    "print(b2)"
   ]
  },
  {
   "cell_type": "code",
   "execution_count": 62,
   "metadata": {},
   "outputs": [
    {
     "name": "stdout",
     "output_type": "stream",
     "text": [
      "[4 6]\n",
      "[3 8]\n",
      "[-2 -2]\n",
      "[0.33333333 0.5       ]\n",
      "28\n"
     ]
    }
   ],
   "source": [
    "# basic array operations\n",
    "data = np.array([1,2])\n",
    "ones = np.array([3,4])\n",
    "\n",
    "print(data + ones)\n",
    "print(data*ones)\n",
    "print(data - ones)\n",
    "print(data/ones)\n",
    "\n",
    "a = np.array([1,2,3,4,5,6,7])\n",
    "print(np.sum(a))"
   ]
  },
  {
   "cell_type": "code",
   "execution_count": 64,
   "metadata": {},
   "outputs": [
    {
     "name": "stdout",
     "output_type": "stream",
     "text": [
      "[1.6 3.2 4.8 6.4 8. ]\n"
     ]
    }
   ],
   "source": [
    "# Broadcasting\n",
    "a = np.array([1,2,3,4,5.0])\n",
    "print(a*1.6)"
   ]
  },
  {
   "cell_type": "code",
   "execution_count": 67,
   "metadata": {},
   "outputs": [
    {
     "name": "stdout",
     "output_type": "stream",
     "text": [
      "5.0\n",
      "1.0\n",
      "15.0\n"
     ]
    }
   ],
   "source": [
    "# basic functions\n",
    "print(max(a))\n",
    "print(min(a))\n",
    "print(sum(a))"
   ]
  },
  {
   "cell_type": "code",
   "execution_count": 72,
   "metadata": {},
   "outputs": [
    {
     "data": {
      "text/plain": [
       "array([2, 6])"
      ]
     },
     "execution_count": 72,
     "metadata": {},
     "output_type": "execute_result"
    }
   ],
   "source": [
    "# matrices\n",
    "mat = np.array([[1,2],[5,6]])\n",
    "mat.max(axis = 1)"
   ]
  },
  {
   "cell_type": "code",
   "execution_count": 87,
   "metadata": {},
   "outputs": [
    {
     "name": "stdout",
     "output_type": "stream",
     "text": [
      "[1 2 3 4 5 6 7]\n",
      "[ 0  1  2  3  4  5 11] [2 2 2 1 2 2 1] [1 2 3 4 5 6 7]\n"
     ]
    }
   ],
   "source": [
    "# unique items and counts\n",
    "a = np.array([1,2,3,4,5,6,1,2,3,5,6,7])\n",
    "unique_val = np.unique(a)\n",
    "print(unique_val)\n",
    "unique_val, indices_list, return_count = np.unique(a, return_index=True, return_counts=True)\n",
    "print(indices_list, return_count, unique_val)"
   ]
  },
  {
   "cell_type": "code",
   "execution_count": 102,
   "metadata": {},
   "outputs": [
    {
     "name": "stdout",
     "output_type": "stream",
     "text": [
      "[[1 2 3]\n",
      " [4 5 6]]\n",
      "[[1 4]\n",
      " [2 5]\n",
      " [3 6]]\n",
      "[[9 8 7 6 5]\n",
      " [4 3 2 1 0]]\n",
      "[[5 6 7 8 9]\n",
      " [0 1 2 3 4]]\n",
      "[[4 3 2 1 0]\n",
      " [9 8 7 6 5]]\n",
      "[[4 3 2 1 0]\n",
      " [5 6 7 8 9]]\n"
     ]
    }
   ],
   "source": [
    "# transposing and reshaping a matrix\n",
    "data = np.array([[1,2,3],[4,5,6]])\n",
    "print(data)\n",
    "data.reshape((3,2))\n",
    "\n",
    "print(data.transpose())\n",
    "\n",
    "# reversing a matrix\n",
    "a = np.arange(10).reshape(2,5)\n",
    "print(np.flip(a))\n",
    "print(np.flip(a, axis = 0))\n",
    "print(np.flip(a, axis = 1))\n",
    "\n",
    "a[0] = np.flip(a[0])\n",
    "print(a)\n"
   ]
  },
  {
   "cell_type": "code",
   "execution_count": 105,
   "metadata": {},
   "outputs": [
    {
     "data": {
      "text/plain": [
       "array([1, 2, 3, 4, 5, 6, 7, 8, 9])"
      ]
     },
     "execution_count": 105,
     "metadata": {},
     "output_type": "execute_result"
    }
   ],
   "source": [
    "# reshaping and flattening arrays\n",
    "x = np.array([[1,2,3],[4,5,6],[7,8,9]])\n",
    "x.flatten()"
   ]
  },
  {
   "cell_type": "code",
   "execution_count": 108,
   "metadata": {},
   "outputs": [
    {
     "name": "stdout",
     "output_type": "stream",
     "text": [
      "Help on built-in function max in module builtins:\n",
      "\n",
      "max(...)\n",
      "    max(iterable, *[, default=obj, key=func]) -> value\n",
      "    max(arg1, arg2, *args, *[, key=func]) -> value\n",
      "    \n",
      "    With a single iterable argument, return its biggest item. The\n",
      "    default keyword-only argument specifies an object to return if\n",
      "    the provided iterable is empty.\n",
      "    With two or more arguments, return the largest argument.\n",
      "\n",
      "None\n"
     ]
    }
   ],
   "source": [
    "# how to access docstring. very object contains the reference to a string, which is known as the docstring.\n",
    "# In most cases, this docstring contains a quick and concise summary of the object and how to use it.\n",
    "print(help(max))\n",
    "x?"
   ]
  },
  {
   "cell_type": "code",
   "execution_count": null,
   "metadata": {},
   "outputs": [],
   "source": []
  }
 ],
 "metadata": {
  "kernelspec": {
   "display_name": "Python 3",
   "language": "python",
   "name": "python3"
  },
  "language_info": {
   "codemirror_mode": {
    "name": "ipython",
    "version": 3
   },
   "file_extension": ".py",
   "mimetype": "text/x-python",
   "name": "python",
   "nbconvert_exporter": "python",
   "pygments_lexer": "ipython3",
   "version": "3.7.1"
  }
 },
 "nbformat": 4,
 "nbformat_minor": 2
}
